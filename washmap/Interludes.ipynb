{
 "cells": [
  {
   "cell_type": "markdown",
   "metadata": {},
   "source": [
    "![bokeh exp basic](presentation_assets/bokeh_basic.png)"
   ]
  },
  {
   "cell_type": "markdown",
   "metadata": {},
   "source": [
    "![bokeh w server](presentation_assets/bokeh_with_server.png)"
   ]
  },
  {
   "cell_type": "markdown",
   "metadata": {},
   "source": [
    "![bokeh tentacles](presentation_assets/bokeh_with_tentacles.png)"
   ]
  },
  {
   "cell_type": "markdown",
   "metadata": {},
   "source": [
    "# Chart Types\n",
    "\n",
    "    Area\n",
    "    Bar\n",
    "    BoxPlot\n",
    "    Donut\n",
    "    Dot\n",
    "    HeatMap\n",
    "    Histogram\n",
    "    Horizon\n",
    "    Line\n",
    "    Scatter\n",
    "    Step\n",
    "    TimeSeries\n"
   ]
  },
  {
   "cell_type": "markdown",
   "metadata": {},
   "source": [
    "# Tip 1\n",
    "\n",
    "Run ALL THE EXAMPLES"
   ]
  },
  {
   "cell_type": "markdown",
   "metadata": {},
   "source": [
    "# Pandas and bokeh are \"just good friends\"\n",
    "\n",
    "Pandas is AWESOME.\n",
    "\n",
    "But, has a steep learning curve.\n",
    "\n",
    "If you're a djangocat, the only thing you REALLY need to know\n",
    "\n",
    "DataFrame.from_records(ValuesQuerySet)"
   ]
  },
  {
   "cell_type": "markdown",
   "metadata": {},
   "source": [
    "# Tip 2\n",
    " \n",
    "You don't need the bokeh stylesheet for anything on your plot. You need it for the html pieces and the interactions - just take the bits you need and make your own."
   ]
  },
  {
   "cell_type": "code",
   "execution_count": null,
   "metadata": {
    "collapsed": true
   },
   "outputs": [],
   "source": []
  }
 ],
 "metadata": {
  "kernelspec": {
   "display_name": "Python 2",
   "language": "python",
   "name": "python2"
  },
  "language_info": {
   "codemirror_mode": {
    "name": "ipython",
    "version": 2
   },
   "file_extension": ".py",
   "mimetype": "text/x-python",
   "name": "python",
   "nbconvert_exporter": "python",
   "pygments_lexer": "ipython2",
   "version": "2.7.9"
  }
 },
 "nbformat": 4,
 "nbformat_minor": 0
}
