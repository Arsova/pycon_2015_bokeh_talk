{
 "cells": [
  {
   "cell_type": "code",
   "execution_count": null,
   "metadata": {
    "collapsed": false
   },
   "outputs": [],
   "source": [
    "from pandas import DataFrame\n",
    "from bokeh.plotting import show, output_notebook\n",
    "output_notebook()"
   ]
  },
  {
   "cell_type": "code",
   "execution_count": null,
   "metadata": {
    "collapsed": false
   },
   "outputs": [],
   "source": [
    "def get_data():\n",
    "    query = StatValue.objects.filter(country__name='South Africa')\n",
    "    query = query.filter(description__code='WNTI_%')\n",
    "    query = query.values('year', 'value')\n",
    "    df = DataFrame.from_records(query, index='year', coerce_float=True)\n",
    "    return df\n",
    "data = get_data()\n",
    "data.head()"
   ]
  },
  {
   "cell_type": "code",
   "execution_count": null,
   "metadata": {
    "collapsed": false
   },
   "outputs": [],
   "source": [
    "from bokeh.charts import Line\n",
    "\n",
    "chart = Line(data)\n",
    "show(chart)"
   ]
  },
  {
   "cell_type": "code",
   "execution_count": null,
   "metadata": {
    "collapsed": false
   },
   "outputs": [],
   "source": [
    "chart.renderers"
   ]
  },
  {
   "cell_type": "code",
   "execution_count": null,
   "metadata": {
    "collapsed": false
   },
   "outputs": [],
   "source": [
    "chart_options = dict(\n",
    "    tools=\"\", palette=[\"#6aa6bd\"],\n",
    "    height=250, width=250,\n",
    "    xlabel=None, ylabel=None, \n",
    "    xgrid=None, ygrid=None,\n",
    ")\n",
    "show(Line(data, **chart_options))"
   ]
  },
  {
   "cell_type": "code",
   "execution_count": null,
   "metadata": {
    "collapsed": false
   },
   "outputs": [],
   "source": [
    "from bokeh.charts import Line\n",
    "from bokeh.models import Range1d\n",
    "    \n",
    "chart = Line(data, **chart_options)\n",
    "\n",
    "# Specify ranges\n",
    "chart.x_range = Range1d(1990, 2012)\n",
    "chart.y_range = Range1d(0, 100)\n",
    "\n",
    "# Remove the toolbar and outline\n",
    "chart.toolbar_location = None\n",
    "chart.outline_line_color = None\n",
    "\n",
    "# Prettify the line\n",
    "chart.renderers[2].glyph.line_width = 5\n",
    "chart.renderers[2].glyph.line_cap = 'round'\n",
    "\n",
    "show(chart)"
   ]
  },
  {
   "cell_type": "code",
   "execution_count": null,
   "metadata": {
    "collapsed": true
   },
   "outputs": [],
   "source": []
  }
 ],
 "metadata": {
  "headers": {
   "Content-Security-Policy": "frame-ancestors '*'"
  },
  "kernelspec": {
   "display_name": "Django Shell-Plus",
   "language": "python",
   "name": "django_extensions"
  },
  "language_info": {
   "codemirror_mode": {
    "name": "ipython",
    "version": 2
   },
   "file_extension": ".py",
   "mimetype": "text/x-python",
   "name": "python",
   "nbconvert_exporter": "python",
   "pygments_lexer": "ipython2",
   "version": "2.7.9"
  }
 },
 "nbformat": 4,
 "nbformat_minor": 0
}
