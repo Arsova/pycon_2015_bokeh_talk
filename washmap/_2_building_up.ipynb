{
 "cells": [
  {
   "cell_type": "code",
   "execution_count": null,
   "metadata": {
    "collapsed": false
   },
   "outputs": [],
   "source": [
    "from washmap.map_data import get_water_data_with_countries\n",
    "from washmap.chart_constants import PLOT_FORMATS, FONT_PROPS_LG, FONT_PROPS_MD, FONT_PROPS_SM, BLUE, ORANGE_SHADOW, ORANGE\n",
    "from bokeh.plotting import show, output_notebook\n",
    "output_notebook()"
   ]
  },
  {
   "cell_type": "markdown",
   "metadata": {},
   "source": [
    "### Make a plot"
   ]
  },
  {
   "cell_type": "code",
   "execution_count": null,
   "metadata": {
    "collapsed": false
   },
   "outputs": [],
   "source": [
    "from bokeh.models import Plot, Range1d\n",
    "\n",
    "x_range = Range1d(0, 250)\n",
    "y_range = Range1d(0, 120)\n",
    "\n",
    "text_box = Plot(\n",
    "    x_range=x_range, y_range=y_range,\n",
    "    title=\"\", plot_width=250, plot_height=120, min_border=0, **PLOT_FORMATS\n",
    ")"
   ]
  },
  {
   "cell_type": "markdown",
   "metadata": {},
   "source": [
    "### Add some simple glyphs"
   ]
  },
  {
   "cell_type": "code",
   "execution_count": null,
   "metadata": {
    "collapsed": false
   },
   "outputs": [],
   "source": [
    "from bokeh.models import Text, Rect, Triangle\n",
    "\n",
    "text_box.add_glyph(Text(x=95, y=20, text=['of people had'],  **FONT_PROPS_SM))\n",
    "text_box.add_glyph(Text(x=95, y=5, text=['access in'], **FONT_PROPS_SM))\n",
    "text_box.add_glyph(Rect(x=75, y=55, width=200, height=5, fill_color=BLUE, line_color=None))\n",
    "text_box.add_glyph(Triangle(x=150, y=65, size=25, fill_color=ORANGE_SHADOW, line_color=None))\n",
    "text_box.add_glyph(Rect(x=200, y=60, width=100, height=40, fill_color=ORANGE, line_color=None))\n",
    "show(text_box)"
   ]
  },
  {
   "cell_type": "markdown",
   "metadata": {},
   "source": [
    "## Add glyphs with data"
   ]
  },
  {
   "cell_type": "code",
   "execution_count": null,
   "metadata": {
    "collapsed": false
   },
   "outputs": [],
   "source": [
    "# Plot and axes\n",
    "x_start, x_end = (-20, 60)\n",
    "y_start, y_end = (-40, 40)\n",
    "x_range = Range1d(x_start, x_end)\n",
    "y_range = Range1d(y_start, y_end)\n",
    "\n",
    "aspect_ratio = (x_end - x_start) / (y_end - y_start)\n",
    "plot_height = 300\n",
    "plot_width = int(plot_height * aspect_ratio)\n",
    "\n",
    "map_box = Plot(\n",
    "    x_range=x_range,\n",
    "    y_range=y_range,\n",
    "    title=\"\",\n",
    "    plot_width=plot_width,\n",
    "    plot_height=plot_height,\n",
    "    **PLOT_FORMATS\n",
    ")"
   ]
  },
  {
   "cell_type": "markdown",
   "metadata": {},
   "source": [
    "### Make a source"
   ]
  },
  {
   "cell_type": "code",
   "execution_count": null,
   "metadata": {
    "collapsed": false
   },
   "outputs": [],
   "source": [
    "from bokeh.models import ColumnDataSource\n",
    "\n",
    "data = get_water_data_with_countries()  # a pandas DataFrame\n",
    "source = ColumnDataSource(data) # a bokeh ColumnDataSource\n",
    "data[['xs', 'ys', 'color_for_active_year']].head(3)"
   ]
  },
  {
   "cell_type": "code",
   "execution_count": null,
   "metadata": {
    "collapsed": false
   },
   "outputs": [],
   "source": [
    "from bokeh.models import Patches\n",
    "countries = Patches(\n",
    "    xs='xs', \n",
    "    ys='ys',\n",
    "    fill_color='color_for_active_year', \n",
    "    line_color=\"#FFFFFF\", \n",
    ")\n",
    "map_box.add_glyph(source, countries)\n",
    "show(map_box)"
   ]
  },
  {
   "cell_type": "code",
   "execution_count": null,
   "metadata": {
    "collapsed": true
   },
   "outputs": [],
   "source": []
  }
 ],
 "metadata": {
  "kernelspec": {
   "display_name": "Django Shell-Plus",
   "language": "python",
   "name": "django_extensions"
  },
  "language_info": {
   "codemirror_mode": {
    "name": "ipython",
    "version": 2
   },
   "file_extension": ".py",
   "mimetype": "text/x-python",
   "name": "python",
   "nbconvert_exporter": "python",
   "pygments_lexer": "ipython2",
   "version": "2.7.9"
  }
 },
 "nbformat": 4,
 "nbformat_minor": 0
}
