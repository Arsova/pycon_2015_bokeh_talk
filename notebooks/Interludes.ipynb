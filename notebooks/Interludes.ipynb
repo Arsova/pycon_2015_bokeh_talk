{
 "cells": [
  {
   "cell_type": "markdown",
   "metadata": {},
   "source": [
    "![bokeh exp basic](presentation_assets/bokeh_basic.png)"
   ]
  },
  {
   "cell_type": "markdown",
   "metadata": {},
   "source": [
    "![bokeh w server](presentation_assets/bokeh_with_server.png)"
   ]
  },
  {
   "cell_type": "markdown",
   "metadata": {},
   "source": [
    "![bokeh tentacles](presentation_assets/bokeh_with_tentacles.png)"
   ]
  },
  {
   "cell_type": "markdown",
   "metadata": {},
   "source": [
    "# Chart Types\n",
    "\n",
    "    Area\n",
    "    Bar\n",
    "    BoxPlot\n",
    "    Donut\n",
    "    Dot\n",
    "    HeatMap\n",
    "    Histogram\n",
    "    Horizon\n",
    "    Line\n",
    "    Scatter\n",
    "    Step\n",
    "    TimeSeries\n"
   ]
  },
  {
   "cell_type": "markdown",
   "metadata": {},
   "source": [
    "### Run ALL THE EXAMPLES"
   ]
  },
  {
   "cell_type": "markdown",
   "metadata": {},
   "source": [
    "### Pandas and bokeh are \"just good friends\"\n",
    "\n",
    "Pandas is AWESOME.\n",
    "\n",
    "But, has a steep learning curve.\n",
    "\n",
    "If you're a djangocat, the only thing you REALLY need to know\n",
    "\n",
    "DataFrame.from_records(ValuesQuerySet)"
   ]
  },
  {
   "cell_type": "markdown",
   "metadata": {
    "collapsed": true
   },
   "source": [
    "#Embedding in your website"
   ]
  },
  {
   "cell_type": "markdown",
   "metadata": {},
   "source": [
    "* get rid of the default stylesheet\n",
    "* the out of the box embed functions may not give you enough flexibility\n",
    "* build your own templates from the `_templates` directory\n",
    "* how to embed"
   ]
  },
  {
   "cell_type": "code",
   "execution_count": 5,
   "metadata": {
    "collapsed": true
   },
   "outputs": [],
   "source": [
    "class BokehScriptComponents(object):\n",
    "    def __init__(self, plot_object, elementid=None):\n",
    "        if not elementid:\n",
    "            elementid = str(uuid.uuid4())\n",
    "        self.elementid = elementid\n",
    "        self.modelid = plot_object.ref[\"id\"]\n",
    "        self.modeltype = plot_object.ref[\"type\"]\n",
    "        self.all_models = serialize_json(plot_object.dump())"
   ]
  },
  {
   "cell_type": "markdown",
   "metadata": {},
   "source": [
    "#### Steal & customize the embed templates\n",
    "\n",
    "```\n",
    "var modelid = \"{{ figure.modelid }}\";\n",
    "var modeltype = \"{{ figure.modeltype }}\";\n",
    "var elementid = \"{{ figure.elementid }}\";\n",
    "Bokeh.logger.info(\"start plotting \" + elementid);\n",
    "var all_models = {{ figure.all_models|safe }};\n",
    "Bokeh.load_models(all_models);\n",
    "var model = Bokeh.Collections(modeltype).get(modelid);\n",
    "var view = new model.default_view({model: model, el: '#{{ figure.elementid }}'});\n",
    "Bokeh.index[modelid] = view\n",
    "```"
   ]
  },
  {
   "cell_type": "markdown",
   "metadata": {},
   "source": [
    "#### Resize\n",
    "```\n",
    "Bokeh.Collections('Plot').get(\"{{ figure.modelid }}\").set('plot_width', plot_width);\n",
    "Bokeh.Collections('Plot').get(\"{{ figure.modelid }}\").set('plot_height', plot_height);\n",
    "```"
   ]
  },
  {
   "cell_type": "markdown",
   "metadata": {},
   "source": [
    "#Rolling with the server"
   ]
  },
  {
   "cell_type": "markdown",
   "metadata": {},
   "source": [
    "* principle is simple - listen for a change, change the data, push the update\n",
    "\n",
    "* seperating the plot server and the client\n",
    "* need a \"blueprint\" of the things you want to make / respond to\n",
    "\n",
    "* keep alive ping on heroku\n"
   ]
  },
  {
   "cell_type": "markdown",
   "metadata": {},
   "source": [
    "### Questions\n",
    "\n",
    "* Top 3 reasons / Top 3 use cases to use bokeh over d3js (other than python > js)\n",
    "* Can I mention that the 4-yr grant - so not a flash in the pan\n",
    "* I want to mention the actions / plugins interface & a timeline\n",
    "* Session / Doc - bit challenging - plans for server\n",
    "* What's your priorities - given timepressures etc - over next 6 months"
   ]
  },
  {
   "cell_type": "code",
   "execution_count": null,
   "metadata": {
    "collapsed": true
   },
   "outputs": [],
   "source": []
  }
 ],
 "metadata": {
  "kernelspec": {
   "display_name": "Python 2",
   "language": "python",
   "name": "python2"
  },
  "language_info": {
   "codemirror_mode": {
    "name": "ipython",
    "version": 2
   },
   "file_extension": ".py",
   "mimetype": "text/x-python",
   "name": "python",
   "nbconvert_exporter": "python",
   "pygments_lexer": "ipython2",
   "version": "2.7.9"
  }
 },
 "nbformat": 4,
 "nbformat_minor": 0
}
