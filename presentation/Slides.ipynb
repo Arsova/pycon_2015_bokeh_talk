{
 "cells": [
  {
   "cell_type": "code",
   "execution_count": 15,
   "metadata": {
    "collapsed": true,
    "slideshow": {
     "slide_type": "skip"
    }
   },
   "outputs": [],
   "source": [
    "import pandas as pd"
   ]
  },
  {
   "cell_type": "markdown",
   "metadata": {
    "collapsed": false,
    "slideshow": {
     "slide_type": "slide"
    }
   },
   "source": [
    "# Interactive data for the web\n",
    "\n",
    "Bokeh for web developers\n",
    "\n",
    "| | |\n",
    "|---|---|\n",
    "| Bokeh | [<i class=\"fa fa-home\"></i>](http://bokeh.pydata.org/) bokeh.pydata.org | [<i class=\"fa fa-github-alt\"></i>](https://github.com/bokeh/bokeh) bokeh | [<i class=\"fa fa-twitter\"></i>](https://twitter.com/BokehPlots) bokehplots |\n",
    "| Aptivate | [<i class=\"fa fa-home\"></i>](http://www.aptivate.org) aptivate.org | [<i class=\"fa fa-github-alt\"></i>](https://github.com/aptivate) aptivate | [<i class=\"fa fa-twitter\"></i>](https://twitter.com/aptivateuk) aptivateuk |\n",
    "| Sarah Bird | [<i class=\"fa fa-home\"></i>](http://sarahbird.org/) sarahbird.org | [<i class=\"fa fa-github-alt\"></i>](https://github.com/birdsarah) birdsarah |  [<i class=\"fa fa-twitter\"></i>](https://twitter.com/birdsarah) birdsarah |\n"
   ]
  },
  {
   "cell_type": "code",
   "execution_count": 16,
   "metadata": {
    "collapsed": true,
    "slideshow": {
     "slide_type": "skip"
    }
   },
   "outputs": [],
   "source": [
    "### Audience participation\n",
    "# TODO"
   ]
  },
  {
   "cell_type": "code",
   "execution_count": 17,
   "metadata": {
    "collapsed": true,
    "slideshow": {
     "slide_type": "slide"
    }
   },
   "outputs": [],
   "source": [
    "def get_data(self):\n",
    "    # This is some django to get us some data\n",
    "    query = StatValue.objects.filter(country__name='Angola')\n",
    "    query = query.filter(description__code='WNTI_%')\n",
    "    query = query.values('year', 'value')\n",
    "        \n",
    "    # This makes us a pandas DataFrame\n",
    "    df = DataFrame.from_records(query, index='year', coerce_float=True)\n",
    "    return df"
   ]
  },
  {
   "cell_type": "markdown",
   "metadata": {
    "slideshow": {
     "slide_type": "slide"
    }
   },
   "source": [
    "#### Sidenote on pandas.\n",
    "\n",
    "It's awesome. Bokeh likes it a lot. You can give bokeh other inputs, but it's often happiest when you feed it bokeh.\n",
    "\n",
    "But....the learning curve is steep. Don't worry about it.\n"
   ]
  },
  {
   "cell_type": "raw",
   "metadata": {
    "slideshow": {
     "slide_type": "fragment"
    }
   },
   "source": [
    "DataFrame.from_records(ValuesQuerySet)"
   ]
  },
  {
   "cell_type": "markdown",
   "metadata": {
    "slideshow": {
     "slide_type": "fragment"
    }
   },
   "source": [
    "gets you a really long way!"
   ]
  },
  {
   "cell_type": "code",
   "execution_count": 18,
   "metadata": {
    "collapsed": true,
    "slideshow": {
     "slide_type": "skip"
    }
   },
   "outputs": [],
   "source": [
    "def get_data():\n",
    "    return pd.read_pickle('pickles/basic_line_data.pickle')"
   ]
  },
  {
   "cell_type": "code",
   "execution_count": 19,
   "metadata": {
    "collapsed": false,
    "slideshow": {
     "slide_type": "slide"
    }
   },
   "outputs": [
    {
     "data": {
      "text/html": [
       "<div style=\"max-height:1000px;max-width:1500px;overflow:auto;\">\n",
       "<table border=\"1\" class=\"dataframe\">\n",
       "  <thead>\n",
       "    <tr style=\"text-align: right;\">\n",
       "      <th></th>\n",
       "      <th>value</th>\n",
       "    </tr>\n",
       "    <tr>\n",
       "      <th>year</th>\n",
       "      <th></th>\n",
       "    </tr>\n",
       "  </thead>\n",
       "  <tbody>\n",
       "    <tr>\n",
       "      <th>1990</th>\n",
       "      <td> 42.4</td>\n",
       "    </tr>\n",
       "    <tr>\n",
       "      <th>1991</th>\n",
       "      <td> 42.4</td>\n",
       "    </tr>\n",
       "    <tr>\n",
       "      <th>1992</th>\n",
       "      <td> 42.4</td>\n",
       "    </tr>\n",
       "    <tr>\n",
       "      <th>1993</th>\n",
       "      <td> 42.4</td>\n",
       "    </tr>\n",
       "    <tr>\n",
       "      <th>1994</th>\n",
       "      <td> 43.0</td>\n",
       "    </tr>\n",
       "  </tbody>\n",
       "</table>\n",
       "</div>"
      ],
      "text/plain": [
       "      value\n",
       "year       \n",
       "1990   42.4\n",
       "1991   42.4\n",
       "1992   42.4\n",
       "1993   42.4\n",
       "1994   43.0"
      ]
     },
     "execution_count": 19,
     "metadata": {},
     "output_type": "execute_result"
    }
   ],
   "source": [
    "data = get_data()\n",
    "data.head()"
   ]
  },
  {
   "cell_type": "code",
   "execution_count": 35,
   "metadata": {
    "collapsed": false,
    "input_collapsed": false,
    "slideshow": {
     "slide_type": "slide"
    }
   },
   "outputs": [],
   "source": [
    "from bokeh.charts import Line\n",
    "\n",
    "plot = Line(data)"
   ]
  },
  {
   "cell_type": "code",
   "execution_count": 37,
   "metadata": {
    "collapsed": true,
    "slideshow": {
     "slide_type": "slide"
    }
   },
   "outputs": [],
   "source": [
    "from bokeh.charts import Line\n",
    "\n",
    "plot = Line(\n",
    "    data, \n",
    "    tools=\"\",\n",
    "    xlabel=None, ylabel=None, xgrid=None, ygrid=None,\n",
    "    title=\"% access to an improved water source\"\n",
    ")"
   ]
  },
  {
   "cell_type": "code",
   "execution_count": 38,
   "metadata": {
    "collapsed": false,
    "slideshow": {
     "slide_type": "slide"
    }
   },
   "outputs": [],
   "source": [
    "from bokeh.charts import Line\n",
    "\n",
    "plot = Line(\n",
    "    data, \n",
    "    tools=\"\",\n",
    "    xlabel=None, ylabel=None, xgrid=None, ygrid=None,\n",
    "    title=\"% access to an improved water source\"\n",
    ")\n",
    "plot.toolbar_location = None\n",
    "plot.renderers[2].glyph.line_width = 5                                  \n",
    "plot.renderers[2].glyph.line_cap = 'round'   "
   ]
  },
  {
   "cell_type": "code",
   "execution_count": 21,
   "metadata": {
    "collapsed": true,
    "input_collapsed": false,
    "slideshow": {
     "slide_type": "skip"
    }
   },
   "outputs": [],
   "source": [
    "#![alot of viz](assets/all_the_charts_gray.png)"
   ]
  },
  {
   "cell_type": "code",
   "execution_count": 22,
   "metadata": {
    "collapsed": true,
    "slideshow": {
     "slide_type": "skip"
    }
   },
   "outputs": [],
   "source": [
    "#![Alot](assets/bokeh_alot.png)"
   ]
  },
  {
   "cell_type": "code",
   "execution_count": 23,
   "metadata": {
    "collapsed": true,
    "slideshow": {
     "slide_type": "skip"
    }
   },
   "outputs": [],
   "source": [
    "#![Alot more python](assets/alot_more_python_2.png)"
   ]
  },
  {
   "cell_type": "code",
   "execution_count": 24,
   "metadata": {
    "collapsed": true,
    "slideshow": {
     "slide_type": "skip"
    }
   },
   "outputs": [],
   "source": [
    "#![alot of viz](assets/bokeh_basic.png)"
   ]
  },
  {
   "cell_type": "code",
   "execution_count": null,
   "metadata": {
    "collapsed": true,
    "input_collapsed": true
   },
   "outputs": [],
   "source": []
  },
  {
   "cell_type": "markdown",
   "metadata": {
    "slideshow": {
     "slide_type": "notes"
    }
   },
   "source": [
    "Why should you use bokeh? I'm going to touch on some of bokeh's features during the presentation. And hopefully wrap this question up towards the end. But, I'll be honest up front. A lot of it comes down to the fact that...I really enjoy Python."
   ]
  },
  {
   "cell_type": "markdown",
   "metadata": {
    "collapsed": true,
    "slideshow": {
     "slide_type": "notes"
    }
   },
   "source": [
    "My goal is to give you tangible info so you can start building your own plots and deploying them in your web application.\n",
    "\n",
    "I'm going to try and keep it light on the guts of how bokeh works, but a little bit can go along way. So first up."
   ]
  }
 ],
 "metadata": {
  "celltoolbar": "Slideshow",
  "kernelspec": {
   "display_name": "Python 3",
   "language": "python",
   "name": "python3"
  },
  "language_info": {
   "codemirror_mode": {
    "name": "ipython",
    "version": 3
   },
   "file_extension": ".py",
   "mimetype": "text/x-python",
   "name": "python",
   "nbconvert_exporter": "python",
   "pygments_lexer": "ipython3",
   "version": "3.4.3"
  }
 },
 "nbformat": 4,
 "nbformat_minor": 0
}
