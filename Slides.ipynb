{
 "cells": [
  {
   "cell_type": "markdown",
   "metadata": {
    "collapsed": false,
    "slideshow": {
     "slide_type": "slide"
    }
   },
   "source": [
    "# Interactive data for the web\n",
    "\n",
    "Bokeh for web developers\n",
    "\n",
    "| | |\n",
    "|---|---|\n",
    "| Bokeh | [<i class=\"fa fa-home\"></i>](http://bokeh.pydata.org/) bokeh.pydata.org | [<i class=\"fa fa-github-alt\"></i>](https://github.com/bokeh/bokeh) bokeh | [<i class=\"fa fa-twitter\"></i>](https://twitter.com/BokehPlots) bokehplots |\n",
    "| Aptivate | [<i class=\"fa fa-home\"></i>](http://www.aptivate.org) aptivate.org | [<i class=\"fa fa-github-alt\"></i>](https://github.com/aptivate) aptivate | [<i class=\"fa fa-twitter\"></i>](https://twitter.com/aptivateuk) aptivateuk |\n",
    "| Sarah Bird | [<i class=\"fa fa-home\"></i>](http://sarahbird.org/) sarahbird.org | [<i class=\"fa fa-github-alt\"></i>](https://github.com/birdsarah) birdsarah |  [<i class=\"fa fa-twitter\"></i>](https://twitter.com/birdsarah) birdsarah |\n",
    "\n",
    "\n",
    "### Audience participation"
   ]
  },
  {
   "cell_type": "code",
   "execution_count": 10,
   "metadata": {
    "collapsed": true,
    "slideshow": {
     "slide_type": "fragment"
    }
   },
   "outputs": [],
   "source": [
    "# TODO"
   ]
  },
  {
   "cell_type": "markdown",
   "metadata": {
    "slideshow": {
     "slide_type": "slide"
    }
   },
   "source": [
    "![alot of viz](assets/all_the_charts.png)"
   ]
  },
  {
   "cell_type": "markdown",
   "metadata": {
    "slideshow": {
     "slide_type": "slide"
    }
   },
   "source": [
    "![Alot](assets/bokeh_alot.png)"
   ]
  },
  {
   "cell_type": "markdown",
   "metadata": {
    "slideshow": {
     "slide_type": "notes"
    }
   },
   "source": [
    "Why should you use bokeh? I'm going to touch on some of bokeh's features during the presentation. And hopefully wrap this question up towards the end. But, I'll be honest up front. A lot of it comes down to the fact that...I really enjoy Python."
   ]
  },
  {
   "cell_type": "markdown",
   "metadata": {
    "slideshow": {
     "slide_type": "slide"
    }
   },
   "source": [
    "![Alot more python](assets/alot_more_python.png)"
   ]
  },
  {
   "cell_type": "markdown",
   "metadata": {
    "collapsed": true,
    "slideshow": {
     "slide_type": "notes"
    }
   },
   "source": [
    "My goal is to give you tangible info so you can start building your own plots and deploying them in your web application.\n",
    "\n",
    "I'm going to try and keep it light on the guts of how bokeh works, but a little bit can go along way. So first up."
   ]
  },
  {
   "cell_type": "code",
   "execution_count": null,
   "metadata": {
    "collapsed": true
   },
   "outputs": [],
   "source": []
  }
 ],
 "metadata": {
  "celltoolbar": "Slideshow",
  "kernelspec": {
   "display_name": "Python 3",
   "language": "python",
   "name": "python3"
  },
  "language_info": {
   "codemirror_mode": {
    "name": "ipython",
    "version": 3
   },
   "file_extension": ".py",
   "mimetype": "text/x-python",
   "name": "python",
   "nbconvert_exporter": "python",
   "pygments_lexer": "ipython3",
   "version": "3.4.3"
  }
 },
 "nbformat": 4,
 "nbformat_minor": 0
}
